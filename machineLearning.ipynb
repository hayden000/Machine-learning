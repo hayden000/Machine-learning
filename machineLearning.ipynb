{
 "cells": [
  {
   "cell_type": "markdown",
   "source": [
    "Import required functions"
   ],
   "metadata": {
    "collapsed": false
   }
  },
  {
   "cell_type": "code",
   "execution_count": 1,
   "outputs": [],
   "source": [
    "import math\n",
    "from datetime import datetime\n",
    "from math import inf\n",
    "\n",
    "import numpy as np\n",
    "from sklearn.datasets import load_iris\n",
    "from sklearn.model_selection import train_test_split"
   ],
   "metadata": {
    "collapsed": false
   }
  },
  {
   "cell_type": "markdown",
   "source": [
    "Iris dataset"
   ],
   "metadata": {
    "collapsed": false
   }
  },
  {
   "cell_type": "markdown",
   "source": [
    "A function that takes an array of numbers and returns the lowest, like min function in numpy."
   ],
   "metadata": {
    "collapsed": false
   }
  },
  {
   "cell_type": "code",
   "execution_count": 2,
   "outputs": [],
   "source": [
    "def average(values):\n",
    "    if len(values) > 0:  # Ensure list is not empty\n",
    "        sum = 0\n",
    "        counter = 0\n",
    "        for i in values:\n",
    "            sum = sum + i\n",
    "            counter = counter + 1\n",
    "        return sum / len(values)  # Divide the total by the number of items\n",
    "    return 0"
   ],
   "metadata": {
    "collapsed": false
   }
  },
  {
   "cell_type": "markdown",
   "source": [
    "Return the lowest item in a list."
   ],
   "metadata": {
    "collapsed": false
   }
  },
  {
   "cell_type": "code",
   "execution_count": 3,
   "outputs": [],
   "source": [
    "def lowestDistance(lengthList):\n",
    "    if len(lengthList) == 0:  # Check that the list is not empty\n",
    "        return 0\n",
    "    lowest = lengthList[0]\n",
    "    item = 0\n",
    "    for i in range(0, len(lengthList)):\n",
    "        if lengthList[i] < lowest:\n",
    "            lowest = lengthList[i]\n",
    "            item = i\n",
    "    return item"
   ],
   "metadata": {
    "collapsed": false
   }
  },
  {
   "cell_type": "markdown",
   "source": [
    "Returns the Euclidian distance between two points regardless of the number of dimensions (as long as they are the same)."
   ],
   "metadata": {
    "collapsed": false
   }
  },
  {
   "cell_type": "code",
   "execution_count": 4,
   "outputs": [],
   "source": [
    "def distanceBetween(x, y):\n",
    "    square_differences = []\n",
    "    for i in range(0, len(x)):\n",
    "        square_differences.append(abs(y[i] - x[i]) * abs(y[i] - x[i]))  # Subtract and square coordinates\n",
    "    sum = 0\n",
    "    for i in square_differences:\n",
    "        sum = sum + i\n",
    "    distance = math.sqrt(sum)\n",
    "    return distance"
   ],
   "metadata": {
    "collapsed": false
   }
  },
  {
   "cell_type": "markdown",
   "source": [
    "Returns the distance between the nearest neighbour to the given point."
   ],
   "metadata": {
    "collapsed": false
   }
  },
  {
   "cell_type": "code",
   "execution_count": 5,
   "outputs": [],
   "source": [
    "def nearest_neighbour(lst, point):\n",
    "    distanceList = []  # Create a new blank list to store distances\n",
    "    for i in lst:\n",
    "        distanceList.append(distanceBetween(i, point))  # Go through all points and return the distance to the sample\n",
    "    for i in distanceList:\n",
    "        if i == 0:  # Check that itself is not included in the distance list (we assume the point is not repeated)\n",
    "            distanceList.remove(0)\n",
    "    return lowestDistance(distanceList)"
   ],
   "metadata": {
    "collapsed": false
   }
  },
  {
   "cell_type": "markdown",
   "source": [
    "Return the index of a given item nearest items to the point"
   ],
   "metadata": {
    "collapsed": false
   }
  },
  {
   "cell_type": "code",
   "execution_count": 6,
   "outputs": [],
   "source": [
    "def nearestK(lst, point, k):\n",
    "    outputList = []\n",
    "    for i in range(0, k):\n",
    "        outputList.append(nearest_neighbour(lst, point)) # Store the index of the nearest neighbour\n",
    "        lst[nearest_neighbour(lst, point)] = [-math.inf] # Replace the element with the lowest value (removing it from the list)\n",
    "    return outputList\n",
    "\n",
    "# print(nearestK([[2, 3, 4111],[1,2,2]], [2, 3, 5], 1))\n",
    "# print(nearest_neighbour([[2, 3, 411],[1,2,2]], [2, 3, 5]))"
   ],
   "metadata": {
    "collapsed": false
   }
  },
  {
   "cell_type": "code",
   "execution_count": 7,
   "outputs": [],
   "source": [
    "# Return the distance to the nearest sample that has the same label\n",
    "def nearest_same(testing_label, training_labels, testing_coordinate, training_coordinates):\n",
    "    training_labels_copy = np.array(training_labels.copy()).tolist() # Make copies so that the original list is not interfered with\n",
    "    training_coordinates_copy = np.array(training_coordinates.copy()).tolist()\n",
    "    while True:\n",
    "        if len(training_coordinates_copy) == 0 or len(training_labels_copy) == 0:\n",
    "            return inf # Prevent passing an empty list\n",
    "        nearest = nearest_neighbour(training_coordinates_copy, testing_coordinate) # Continue to run the nearest neighbour algorithm until an item with the same label is found\n",
    "        if training_labels_copy[nearest] == testing_label:\n",
    "            if distanceBetween(training_coordinates_copy[nearest], testing_coordinate) == 0: # Check that the coordinate is not the same (the item itself) so that it can be removed\n",
    "                training_coordinates_copy.pop(nearest)\n",
    "                training_labels_copy.pop(nearest)\n",
    "            else:\n",
    "                return distanceBetween(training_coordinates_copy[nearest], testing_coordinate)\n",
    "        else:\n",
    "            training_labels_copy = np.delete(training_labels_copy, nearest, axis=0) # If there was no match then delete and continue looking\n",
    "            training_coordinates_copy = np.delete(training_coordinates_copy, nearest, axis=0)\n",
    "\n",
    "\n",
    "# Return the distance to the nearest sample that has a different label\n",
    "def nearest_different(testing_label, training_labels, testing_coordinate, training_coordinates):\n",
    "    training_labels_copy = training_labels.copy()\n",
    "    training_coordinates_copy = training_coordinates.copy()\n",
    "\n",
    "    while True:\n",
    "        if len(training_coordinates_copy) == 0 or len(training_labels_copy) == 0:\n",
    "            return inf # Prevent passing an empty list\n",
    "        nearest = nearest_neighbour(training_coordinates_copy, testing_coordinate)\n",
    "        if training_labels_copy[nearest] != testing_label: # Check for different label\n",
    "            return distanceBetween(training_coordinates_copy[nearest], testing_coordinate) # Get the distance bwtween these two coordinates\n",
    "        else:\n",
    "            training_labels_copy = np.delete(training_labels_copy, nearest, axis=0) # If they mached to the same label then remove the coordinate and try again from the remaining ones\n",
    "            training_coordinates_copy = np.delete(training_coordinates_copy, nearest, axis=0)"
   ],
   "metadata": {
    "collapsed": false
   }
  },
  {
   "cell_type": "markdown",
   "source": [
    "Return the conformity score for any given dataset and label."
   ],
   "metadata": {
    "collapsed": false
   }
  },
  {
   "cell_type": "code",
   "execution_count": 8,
   "outputs": [],
   "source": [
    "def conformity(data, label, k):\n",
    "    nearest_di = math.inf\n",
    "    nearest_sa = math.inf\n",
    "    shape = data.shape\n",
    "    length = int(shape[0])\n",
    "    for i in range(0, length): # Find the nearest neighbour\n",
    "        cur_dis = distanceBetween(data[k], data[i])\n",
    "        if cur_dis < nearest_di:\n",
    "            if not i == k and label[k] == label[i]: # With the different label\n",
    "                nearest_di = cur_dis\n",
    "        if cur_dis < nearest_sa:\n",
    "            if not i == k and not label[k] == label[i]: # With a same label\n",
    "                nearest_sa = cur_dis\n",
    "    if nearest_di == 0: # Check that it is not the same value (using zero distance check)\n",
    "        if nearest_sa == 0:\n",
    "            return 0\n",
    "        return math.inf\n",
    "    else:\n",
    "        return nearest_sa / nearest_di"
   ],
   "metadata": {
    "collapsed": false
   }
  },
  {
   "cell_type": "markdown",
   "source": [
    "A function that returns the rank of a given item in a list."
   ],
   "metadata": {
    "collapsed": false
   }
  },
  {
   "cell_type": "code",
   "execution_count": 9,
   "outputs": [],
   "source": [
    "def rnk(lst, value):\n",
    "    rank = 0\n",
    "    for i in range(0, len(lst)):\n",
    "        if lst[i] < value:\n",
    "            rank = rank + 1\n",
    "    return rank + 1"
   ],
   "metadata": {
    "collapsed": false
   }
  },
  {
   "cell_type": "markdown",
   "source": [
    "Computing the p_value based on the set containing the ranks."
   ],
   "metadata": {
    "collapsed": false
   }
  },
  {
   "cell_type": "code",
   "execution_count": 10,
   "outputs": [],
   "source": [
    "def p_val(ranks, training):\n",
    "    n = len(training) + 1\n",
    "    ranking = np.array(ranks) / n\n",
    "    ranking = np.array(ranking).tolist()\n",
    "    return ranking"
   ],
   "metadata": {
    "collapsed": false
   }
  },
  {
   "cell_type": "markdown",
   "source": [
    "Return the average of the false vales. Remove the correct values from the dataset and average the remaining values."
   ],
   "metadata": {
    "collapsed": false
   }
  },
  {
   "cell_type": "code",
   "execution_count": 11,
   "outputs": [],
   "source": [
    "def averageFalse(testingSet, p_val):\n",
    "    correctList = []\n",
    "    for i in range(0, len(testingSet)):\n",
    "        for j in np.unique(testingSet):\n",
    "            if testingSet[i] != j:\n",
    "                correctList.append(p_val[i][j])\n",
    "    sum = 0\n",
    "    count = 0\n",
    "    for i in correctList:\n",
    "        sum = sum + i\n",
    "        count = count + 1\n",
    "    return sum / count"
   ],
   "metadata": {
    "collapsed": false
   }
  },
  {
   "cell_type": "markdown",
   "source": [
    "Import the iris dataset and split it into the training and testing sets."
   ],
   "metadata": {
    "collapsed": false
   }
  },
  {
   "cell_type": "code",
   "execution_count": 12,
   "outputs": [],
   "source": [
    "iris = load_iris()\n",
    "iris_training_x, iris_testing_x, iris_training_y, iris_testing_y = train_test_split(iris['data'], iris['target'],\n",
    "                                                                                    random_state=3001)"
   ],
   "metadata": {
    "collapsed": false
   }
  },
  {
   "cell_type": "markdown",
   "source": [
    "Running nearest neighbour algorithm on the iris dataset."
   ],
   "metadata": {
    "collapsed": false
   }
  },
  {
   "cell_type": "code",
   "execution_count": 13,
   "outputs": [
    {
     "name": "stdout",
     "output_type": "stream",
     "text": [
      "Number of errors: 4\n",
      "Average correct rate: 0.8947368421052632\n",
      "Average correct percentage: 89.47368421052632 %\n",
      "Average error rate: 0.10526315789473684\n",
      "Average error percentage: 10.526315789473683 %\n"
     ]
    }
   ],
   "source": [
    "same = 0\n",
    "total = 0\n",
    "for i in range(0, len(iris_testing_x)):\n",
    "    total = total + 1\n",
    "    nn_i = nearest_neighbour(iris_training_x, iris_testing_x[i])\n",
    "    if iris_training_y[nn_i] == iris_testing_y[i]:\n",
    "        same = same + 1\n",
    "print(\"Number of errors:\", total - same)\n",
    "print(\"Average correct rate:\", same / total)\n",
    "print(\"Average correct percentage:\", (same / total) * 100, \"%\")\n",
    "print(\"Average error rate:\", (1 - (same / total)))\n",
    "print(\"Average error percentage:\", (1 - (same / total)) * 100, \"%\")"
   ],
   "metadata": {
    "collapsed": false
   }
  },
  {
   "cell_type": "code",
   "execution_count": 14,
   "outputs": [
    {
     "name": "stdout",
     "output_type": "stream",
     "text": [
      "Number of nearest neighbours: 2\n",
      "Number of errors: 16\n",
      "Average truth rate: 0.5789473684210527\n",
      "Average error rate: 0.42105263157894735\n",
      "Average error percentage: 42.10526315789473 %\n"
     ]
    }
   ],
   "source": [
    "def nearest_neighbour_k_iris(k):\n",
    "    iris_training_x_copy = np.array(iris_training_x.copy())\n",
    "    iris_training_y_copy = np.array(iris_training_y.copy())\n",
    "    iris_testing_x_copy = np.array(iris_testing_x.copy())\n",
    "    same = 0\n",
    "    total = 0\n",
    "    for i in range(0, len(iris_testing_x_copy)):\n",
    "        tmp_lst = []\n",
    "        nn_i = nearestK(iris_training_x_copy, iris_testing_x_copy[i], k)\n",
    "        total = total + 1\n",
    "        for j in nn_i:\n",
    "            tmp_lst.append(iris_training_y_copy[j])\n",
    "        for i in range(0, len(tmp_lst)):\n",
    "            popular_label = np.bincount(tmp_lst).argmax()\n",
    "            if popular_label == iris_training_y_copy[i]:\n",
    "                same = same + 1\n",
    "    print(\"Number of nearest neighbours:\", k)\n",
    "    print(\"Number of errors:\", total - same)\n",
    "    print(\"Average truth rate:\", same / total)\n",
    "    print(\"Average error rate:\", (1 - (same / total)))\n",
    "    print(\"Average error percentage:\", (1 - (same / total)) * 100, \"%\")\n",
    "\n",
    "\n",
    "nearest_neighbour_k_iris(2)"
   ],
   "metadata": {
    "collapsed": false
   }
  },
  {
   "cell_type": "markdown",
   "source": [
    "Get the conformal prediction for the iris dataset"
   ],
   "metadata": {
    "collapsed": false
   }
  },
  {
   "cell_type": "code",
   "execution_count": 15,
   "outputs": [
    {
     "name": "stdout",
     "output_type": "stream",
     "text": [
      "0:00:02.318138\n"
     ]
    }
   ],
   "source": [
    "x = datetime.now()\n",
    "conformal_list_iris = []\n",
    "lists = len(np.unique(iris_training_y))\n",
    "for i in range(0, len(iris_testing_x)):\n",
    "    temp_lst = []\n",
    "    for j in np.unique(iris_training_y):\n",
    "        if nearest_same(j, iris_training_y, iris_testing_x[i], iris_training_x) == 0:\n",
    "            temp_lst.append(math.inf)\n",
    "        else:\n",
    "            temp_lst.append(\n",
    "                nearest_different(j, iris_training_y, iris_testing_x[i], iris_training_x) / nearest_same(j,\n",
    "                                                                                                         iris_training_y,\n",
    "                                                                                                         iris_testing_x[\n",
    "                                                                                                             i],\n",
    "                                                                                                         iris_training_x))\n",
    "    conformal_list_iris.append(temp_lst)\n",
    "print(datetime.now() - x)"
   ],
   "metadata": {
    "collapsed": false
   }
  },
  {
   "cell_type": "markdown",
   "source": [
    "Get the ranking of the conformity scores for each given label"
   ],
   "metadata": {
    "collapsed": false
   }
  },
  {
   "cell_type": "code",
   "execution_count": 16,
   "outputs": [],
   "source": [
    "conform = np.array(conformal_list_iris).T.tolist()\n",
    "ranks = []\n",
    "for i in conform:\n",
    "    tmp_lst = []\n",
    "    for j in i:\n",
    "        tmp_lst.append(rnk(i, j))\n",
    "    ranks.append(tmp_lst)\n",
    "ranks = np.array(ranks).T.tolist()"
   ],
   "metadata": {
    "collapsed": false
   }
  },
  {
   "cell_type": "markdown",
   "source": [
    "Call the p_value function on the ranks to get the average p value for the iris dataset."
   ],
   "metadata": {
    "collapsed": false
   }
  },
  {
   "cell_type": "code",
   "execution_count": 17,
   "outputs": [
    {
     "name": "stdout",
     "output_type": "stream",
     "text": [
      "Average false P value 0.11783884489986028\n"
     ]
    }
   ],
   "source": [
    "iris_pval = p_val(ranks, iris_training_y)\n",
    "print(\"Average false P value\", averageFalse(iris_testing_y, iris_pval))"
   ],
   "metadata": {
    "collapsed": false
   }
  },
  {
   "cell_type": "markdown",
   "source": [
    "Ionosphere Dataset"
   ],
   "metadata": {
    "collapsed": false
   }
  },
  {
   "cell_type": "markdown",
   "source": [
    "Import the Ionosphere dataset and split it into the training set and the testing set and"
   ],
   "metadata": {
    "collapsed": false
   }
  },
  {
   "cell_type": "code",
   "execution_count": 18,
   "outputs": [],
   "source": [
    "X = np.genfromtxt(\"ionosphere.txt\", delimiter=\",\", usecols=np.arange(34))\n",
    "y = np.genfromtxt(\"ionosphere.txt\", delimiter=\",\", usecols=34, dtype='int')\n",
    "ion_training_x, ion_testing_x, ion_training_y, ion_testing_y = train_test_split(X, y, random_state=3001)\n",
    "# ion_training_x, ion_testing_x, ion_training_y, ion_testing_y = train_test_split(X[:40], y[:40], random_state=3001)"
   ],
   "metadata": {
    "collapsed": false
   }
  },
  {
   "cell_type": "markdown",
   "source": [
    "Run the same nearest neighbour algorithm on the ionosphere dataset."
   ],
   "metadata": {
    "collapsed": false
   }
  },
  {
   "cell_type": "code",
   "execution_count": 19,
   "outputs": [
    {
     "name": "stdout",
     "output_type": "stream",
     "text": [
      "Number of errors: 7\n",
      "Average correct rate: 0.9204545454545454\n",
      "Average correct percentage: 92.04545454545455 %\n",
      "Average error rate: 0.07954545454545459\n",
      "Average error rate: 7.954545454545459 %\n"
     ]
    }
   ],
   "source": [
    "same = 0\n",
    "total = 0\n",
    "for i in range(0, len(ion_testing_x)):\n",
    "    total = total + 1\n",
    "    nn_i = nearest_neighbour(ion_training_x, ion_testing_x[i])\n",
    "    if ion_training_y[nn_i] == ion_testing_y[i]:\n",
    "        same = same + 1\n",
    "print(\"Number of errors:\", total - same)\n",
    "print(\"Average correct rate:\", same / total)\n",
    "print(\"Average correct percentage:\", (same / total) * 100, \"%\")\n",
    "print(\"Average error rate:\", (1 - (same / total)))\n",
    "print(\"Average error rate:\", (1 - (same / total)) * 100, \"%\")"
   ],
   "metadata": {
    "collapsed": false
   }
  },
  {
   "cell_type": "code",
   "execution_count": 20,
   "outputs": [
    {
     "name": "stdout",
     "output_type": "stream",
     "text": [
      "Number of nearest neighbours: 2\n",
      "Number of errors: 65\n",
      "Average truth rate: 0.26136363636363635\n",
      "Average error percentage: 73.86363636363636 %\n",
      "0:00:02.018939\n"
     ]
    }
   ],
   "source": [
    "x = datetime.now()\n",
    "\n",
    "\n",
    "def nearest_neighbour_k_ion(k):\n",
    "    ion_training_x_copy = np.array(ion_training_x.copy())\n",
    "    ion_training_y_copy = np.array(ion_training_y.copy())\n",
    "    ion_testing_x_copy = np.array(ion_testing_x.copy())\n",
    "    same = 0\n",
    "    total = 0\n",
    "    for i in range(0, len(ion_testing_x_copy)):\n",
    "        tmp_lst = []\n",
    "        nn_i = nearestK(ion_training_x_copy, ion_testing_x_copy[i], k)\n",
    "        total = total + 1\n",
    "        for j in nn_i:\n",
    "            tmp_lst.append(ion_training_y_copy[j] + 1)\n",
    "        for i in range(0, len(tmp_lst)):\n",
    "            popular_label = np.bincount(tmp_lst).argmax() + 1\n",
    "            if popular_label == ion_training_y_copy[i]:\n",
    "                same = same + 1\n",
    "    print(\"Number of nearest neighbours:\", k)\n",
    "    print(\"Number of errors:\", total - same)\n",
    "    print(\"Average truth rate:\", same / total)\n",
    "    print(\"Average error percentage:\", (1 - (same / total)) * 100, \"%\")\n",
    "\n",
    "\n",
    "nearest_neighbour_k_ion(2)\n",
    "print(datetime.now() - x)"
   ],
   "metadata": {
    "collapsed": false
   }
  },
  {
   "cell_type": "markdown",
   "source": [
    "Run the conformity score on the ionosphere dataset and use this to calculate the average false p value."
   ],
   "metadata": {
    "collapsed": false
   }
  },
  {
   "cell_type": "code",
   "execution_count": 21,
   "outputs": [
    {
     "name": "stdout",
     "output_type": "stream",
     "text": [
      "Number of errors: 6\n",
      "Average false P value: 0.06818181818181818\n",
      "0:04:33.693201\n"
     ]
    }
   ],
   "source": [
    "x = datetime.now()\n",
    "errors = 0\n",
    "sum = 0\n",
    "prediction = np.zeros(ion_testing_x.shape[0])\n",
    "score = np.zeros(ion_training_x.shape[0] + 1)\n",
    "p_score = np.zeros(len(np.unique(ion_training_y)))\n",
    "for i in range(0, ion_testing_x.shape[0]):\n",
    "    ax = np.vstack((ion_training_x, ion_testing_x[i]))\n",
    "    for j in range(0, len(np.unique(ion_training_y))):\n",
    "        ay = np.append(ion_training_y, j * 2 - 1)\n",
    "        for k in range(ion_training_x.shape[0] + 1):\n",
    "            score[k] = conformity(ax, ay, k)\n",
    "        p_score[j] = average(score <= score[ion_training_x.shape[0]])\n",
    "    prediction[i] = 2 * np.argmax(p_score) - 1\n",
    "    if not prediction[i] == ion_testing_y[i]:\n",
    "        errors = errors + 1\n",
    "    sum = sum + p_score[0] + p_score[1] - p_score[ion_testing_y // 2]\n",
    "print(\"Number of errors:\", errors)\n",
    "print(\"Average false P value:\", errors / ion_testing_x.shape[0])\n",
    "print(datetime.now() - x)"
   ],
   "metadata": {
    "collapsed": false
   }
  },
  {
   "cell_type": "markdown",
   "source": [
    "Convention for 0/0:\n",
    "We want to record the distance to the nearest neighbour except if it is zero as they are not neighbours.\n",
    "And we also do not want to compare the coordinate to itself.\n",
    "\n",
    "Given a point with two equal distances, then we can return any."
   ],
   "metadata": {
    "collapsed": false
   }
  }
 ],
 "metadata": {
  "kernelspec": {
   "display_name": "Python 3 (ipykernel)",
   "language": "python",
   "name": "python3"
  },
  "language_info": {
   "codemirror_mode": {
    "name": "ipython",
    "version": 3
   },
   "file_extension": ".py",
   "mimetype": "text/x-python",
   "name": "python",
   "nbconvert_exporter": "python",
   "pygments_lexer": "ipython3",
   "version": "3.9.12"
  }
 },
 "nbformat": 4,
 "nbformat_minor": 5
}
