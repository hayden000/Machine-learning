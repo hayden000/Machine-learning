{
 "cells": [
  {
   "cell_type": "markdown",
   "source": [
    "Assignment 3"
   ],
   "metadata": {
    "collapsed": false
   }
  },
  {
   "cell_type": "code",
   "execution_count": 1,
   "id": "9f28c874",
   "metadata": {},
   "outputs": [],
   "source": [
    "import math\n",
    "\n",
    "import matplotlib.pyplot\n",
    "import numpy as np\n",
    "from sklearn.datasets import load_diabetes\n",
    "from sklearn.linear_model import Lasso\n",
    "from sklearn.model_selection import GridSearchCV\n",
    "from sklearn.model_selection import cross_validate\n",
    "from sklearn.model_selection import train_test_split\n",
    "from sklearn.preprocessing import StandardScaler"
   ]
  },
  {
   "cell_type": "markdown",
   "source": [
    "Import and load the built-in diabetes dataset and split it into the testing and training sets."
   ],
   "metadata": {
    "collapsed": false
   }
  },
  {
   "cell_type": "code",
   "execution_count": 2,
   "id": "fdacbcda",
   "metadata": {},
   "outputs": [
    {
     "name": "stdout",
     "output_type": "stream",
     "text": [
      ".. _diabetes_dataset:\n",
      "\n",
      "Diabetes dataset\n",
      "----------------\n",
      "\n",
      "Ten baseline variables, age, sex, body mass index, average blood\n",
      "pressure, and six blood serum measurements were obtained for each of n =\n",
      "442 diabetes patients, as well as the response of interest, a\n",
      "quantitative measure of disease progression one year after baseline.\n",
      "\n",
      "**Data Set Characteristics:**\n",
      "\n",
      "  :Number of Instances: 442\n",
      "\n",
      "  :Number of Attributes: First 10 columns are numeric predictive values\n",
      "\n",
      "  :Target: Column 11 is a quantitative measure of disease progression one year after baseline\n",
      "\n",
      "  :Attribute Information:\n",
      "      - age     age in years\n",
      "      - sex\n",
      "      - bmi     body mass index\n",
      "      - bp      average blood pressure\n",
      "      - s1      tc, total serum cholesterol\n",
      "      - s2      ldl, low-density lipoproteins\n",
      "      - s3      hdl, high-density lipoproteins\n",
      "      - s4      tch, total cholesterol / HDL\n",
      "      - s5      ltg, possibly log of serum triglycerides level\n",
      "      - s6      glu, blood sugar level\n",
      "\n",
      "Note: Each of these 10 feature variables have been mean centered and scaled by the standard deviation times `n_samples` (i.e. the sum of squares of each column totals 1).\n",
      "\n",
      "Source URL:\n",
      "https://www4.stat.ncsu.edu/~boos/var.select/diabetes.html\n",
      "\n",
      "For more information see:\n",
      "Bradley Efron, Trevor Hastie, Iain Johnstone and Robert Tibshirani (2004) \"Least Angle Regression,\" Annals of Statistics (with discussion), 407-499.\n",
      "(https://web.stanford.edu/~hastie/Papers/LARS/LeastAngle_2002.pdf)\n",
      "['age', 'sex', 'bmi', 'bp', 's1', 's2', 's3', 's4', 's5', 's6']\n"
     ]
    }
   ],
   "source": [
    "diabetes = load_diabetes()\n",
    "diabetes_training_x, diabetes_testing_x, diabetes_training_y, diabetes_testing_y = train_test_split(diabetes['data'],\n",
    "                                                                                                    diabetes['target'],\n",
    "                                                                                                    random_state=3001)\n",
    "print(diabetes.DESCR)  #Examine the labels and find out information about the dataset\n",
    "print(diabetes.feature_names)"
   ]
  },
  {
   "cell_type": "markdown",
   "source": [
    "Import the data for the normalised diabetes dataset from the file."
   ],
   "metadata": {
    "collapsed": false
   }
  },
  {
   "cell_type": "code",
   "execution_count": 3,
   "id": "14286551",
   "metadata": {},
   "outputs": [],
   "source": [
    "diabetes_data = np.genfromtxt(\"diabetes.data\", delimiter=\"\\t\", skip_header=1, usecols=np.arange(0, 10))\n",
    "# The file has a header at the top of it we must skip over it\n",
    "diabetes_label = np.genfromtxt(\"diabetes.data\", skip_header=1, usecols=10)"
   ]
  },
  {
   "cell_type": "markdown",
   "source": [
    "Split the data that was imported from the file into the training and testing sets."
   ],
   "metadata": {
    "collapsed": false
   }
  },
  {
   "cell_type": "code",
   "execution_count": 4,
   "id": "9fa54edd",
   "metadata": {},
   "outputs": [],
   "source": [
    "new_diabetes_training_x, new_diabetes_testing_x, new_diabetes_training_y, new_diabetes_testing_y = train_test_split(\n",
    "    diabetes_data, diabetes_label, random_state=3001)"
   ]
  },
  {
   "cell_type": "markdown",
   "source": [
    "Write a function that returns the count of items that are non-zero."
   ],
   "metadata": {
    "collapsed": false
   }
  },
  {
   "cell_type": "code",
   "execution_count": 5,
   "outputs": [],
   "source": [
    "def sum0(lst):\n",
    "    counter = 0\n",
    "    for i in lst:\n",
    "        if i != 0:\n",
    "            counter = counter + 1\n",
    "    return counter"
   ],
   "metadata": {
    "collapsed": false
   }
  },
  {
   "cell_type": "markdown",
   "source": [
    "Compute the coefficient of determination for the lasso. Residual sum of squares / total sum of squares. And the number of features used (the number of non-zero coefficients). This is for the built-in dataset."
   ],
   "metadata": {
    "collapsed": false
   }
  },
  {
   "cell_type": "code",
   "execution_count": 6,
   "outputs": [
    {
     "name": "stdout",
     "output_type": "stream",
     "text": [
      "Training R squared for lasso using built-in dataset:\n",
      "0.3415823818772673\n",
      "Testing R squared for lasso using built-in dataset:\n",
      "0.34648460027308603\n",
      "Number of features used for built-in dataset:\n",
      "3\n"
     ]
    }
   ],
   "source": [
    "training_score = Lasso.score(Lasso().fit(diabetes_training_x, diabetes_training_y), diabetes_training_x,\n",
    "                             diabetes_training_y, sample_weight=None)\n",
    "testing_score = Lasso.score(Lasso().fit(diabetes_training_x, diabetes_training_y), diabetes_testing_x,\n",
    "                            diabetes_testing_y,\n",
    "                            sample_weight=None)\n",
    "print(\"Training R squared for lasso using built-in dataset:\")\n",
    "print(training_score)\n",
    "print(\"Testing R squared for lasso using built-in dataset:\")\n",
    "print(testing_score)\n",
    "print(\"Number of features used for built-in dataset:\")\n",
    "print(sum0(Lasso().fit(diabetes_training_x, diabetes_training_y).coef_))"
   ],
   "metadata": {
    "collapsed": false
   }
  },
  {
   "cell_type": "markdown",
   "source": [
    "Compute the same thing for the imported dataset."
   ],
   "metadata": {
    "collapsed": false
   }
  },
  {
   "cell_type": "code",
   "execution_count": 7,
   "outputs": [
    {
     "name": "stdout",
     "output_type": "stream",
     "text": [
      "Training R squared for lasso with the loaded dataset:\n",
      "0.5014454691934784\n",
      "Testing R squared for lasso with the loaded dataset:\n",
      "0.5075116561219993\n",
      "Number of features used:\n",
      "10\n"
     ]
    }
   ],
   "source": [
    "lasso = Lasso()\n",
    "lasso.fit(new_diabetes_training_x, new_diabetes_training_y)\n",
    "new_training_score = lasso.score(new_diabetes_training_x, new_diabetes_training_y)\n",
    "new_testing_score = lasso.score(new_diabetes_testing_x, new_diabetes_testing_y)\n",
    "print(\"Training R squared for lasso with the loaded dataset:\")\n",
    "print(new_training_score)\n",
    "print(\"Testing R squared for lasso with the loaded dataset:\")\n",
    "print(new_testing_score)\n",
    "print(\"Number of features used:\")\n",
    "print(sum0(lasso.coef_))"
   ],
   "metadata": {
    "collapsed": false
   }
  },
  {
   "cell_type": "code",
   "execution_count": 8,
   "outputs": [
    {
     "name": "stdout",
     "output_type": "stream",
     "text": [
      "Normalised data set traning R2:\n",
      "0.5042980859207147\n",
      "Normalised data set testing R2:\n",
      "0.5156886801861563\n"
     ]
    }
   ],
   "source": [
    "new_value = StandardScaler()\n",
    "new_value.fit(new_diabetes_training_x)\n",
    "new_norm_diabetes_training_x = new_value.transform(new_diabetes_training_x)\n",
    "new_norm_diabetes_testing_x = new_value.transform(new_diabetes_testing_x)\n",
    "print(\"Normalised data set traning R2:\")\n",
    "print(Lasso().fit(new_norm_diabetes_training_x, new_diabetes_training_y).score(new_norm_diabetes_training_x,\n",
    "                                                                               new_diabetes_training_y))\n",
    "print(\"Normalised data set testing R2:\")\n",
    "new_value.fit(new_diabetes_testing_x)\n",
    "print(Lasso().fit(new_norm_diabetes_training_x, new_diabetes_training_y).score(new_norm_diabetes_testing_x,\n",
    "                                                                               new_diabetes_testing_y))"
   ],
   "metadata": {
    "collapsed": false
   }
  },
  {
   "cell_type": "code",
   "execution_count": 9,
   "outputs": [],
   "source": [
    "values = []\n",
    "alphas = []\n",
    "cross = []\n",
    "for i in range(0, 5000, 1):\n",
    "    lasso = Lasso(alpha=(i + 1) / 100)\n",
    "    lasso.fit(diabetes_training_x, diabetes_training_y)\n",
    "    temp = cross_validate(lasso, diabetes_training_x, diabetes_training_y)\n",
    "    values.append(np.sum(temp['test_score']) / len(temp['test_score']))\n",
    "    alphas.append((i + 1) / 100)"
   ],
   "metadata": {
    "collapsed": false
   }
  },
  {
   "cell_type": "markdown",
   "source": [
    "Loop over the data using lots of alphas to try and see how the graph will look. Use a small interval so that we can easily find the number of features used."
   ],
   "metadata": {
    "collapsed": false
   }
  },
  {
   "cell_type": "code",
   "execution_count": 10,
   "outputs": [
    {
     "data": {
      "text/plain": "[<matplotlib.lines.Line2D at 0x7fe77a4e1d30>]"
     },
     "execution_count": 10,
     "metadata": {},
     "output_type": "execute_result"
    },
    {
     "data": {
      "text/plain": "<Figure size 432x288 with 1 Axes>",
      "image/png": "[encoded data removed]"
     },
     "metadata": {
      "needs_background": "light"
     },
     "output_type": "display_data"
    }
   ],
   "source": [
    "values = []\n",
    "totals = []\n",
    "alphas = []\n",
    "cross = []\n",
    "for i in range(0, 5000, 1):\n",
    "    lasso = Lasso(alpha=(i + 1) / 100)\n",
    "    lasso.fit(new_norm_diabetes_training_x, new_diabetes_training_y)\n",
    "    temp = cross_validate(lasso, new_norm_diabetes_training_x, new_diabetes_training_y)\n",
    "    values.append(np.sum(temp['test_score']) / len(temp['test_score']))\n",
    "    alphas.append((i + 1) / 100)\n",
    "    totals.append(\n",
    "        sum0(Lasso(alpha=(i + 1) / 100).fit(new_norm_diabetes_training_x, new_diabetes_training_y).coef_))\n",
    "matplotlib.pyplot.plot(values, totals, marker=None)"
   ],
   "metadata": {
    "collapsed": false
   }
  },
  {
   "cell_type": "markdown",
   "source": [
    "We can compute the number of features that influence the dataset.\n",
    "In addition, we are also able to compute the optimum value for alpha since we used a very small incremental change for alpha.\n",
    "If we use a smaller incremental value for alpha we are able to compute a closer value."
   ],
   "metadata": {
    "collapsed": false
   }
  },
  {
   "cell_type": "code",
   "execution_count": 11,
   "outputs": [],
   "source": [
    "unique = []\n",
    "for i in set(totals):\n",
    "    unique.append(i)\n",
    "new_points = []\n",
    "for i in range(0, len(unique)):\n",
    "    for j in range(0, len(totals)):\n",
    "        if unique[i] == totals[j]:\n",
    "            new_points.append(values[j])\n",
    "            break\n",
    "increasing_points = 1\n",
    "index = 0\n",
    "for i in range(0, len(new_points) - 1):  #Count the number of points that increase\n",
    "    if new_points[i] < new_points[i + 1]:\n",
    "        index = i\n",
    "        increasing_points = increasing_points + 1\n",
    "feature = np.sum(\n",
    "    Lasso(alpha=alphas[np.argmax(values)]).fit(new_norm_diabetes_training_x, new_diabetes_training_y).coef_ != 0)"
   ],
   "metadata": {
    "collapsed": false
   }
  },
  {
   "cell_type": "code",
   "execution_count": 12,
   "outputs": [
    {
     "name": "stdout",
     "output_type": "stream",
     "text": [
      "Number of features required:\n",
      "8\n",
      "Optimal alpha found:\n",
      "0.5139722640060603\n",
      "Optimal R2 value found:\n",
      "0.5018016530986229\n"
     ]
    }
   ],
   "source": [
    "print(\"Number of features required:\")\n",
    "print(increasing_points)\n",
    "index = np.argmax(values)\n",
    "print(\"Optimal alpha found:\")\n",
    "al = {'alpha': alphas}\n",
    "grid_search = GridSearchCV(Lasso(), al)\n",
    "grid_search.fit(new_norm_diabetes_training_x, new_diabetes_training_y)\n",
    "print(grid_search.score(new_norm_diabetes_testing_x, diabetes_testing_y))\n",
    "print(\"Optimal R2 value found:\")\n",
    "print(grid_search.score(new_norm_diabetes_training_x, new_diabetes_training_y))"
   ],
   "metadata": {
    "collapsed": false
   }
  },
  {
   "cell_type": "markdown",
   "source": [
    "An interesting observation is that we now have a higher R2 with the more optimal alpha."
   ],
   "metadata": {
    "collapsed": false
   }
  },
  {
   "cell_type": "markdown",
   "source": [
    "From this graph we can compute that there are seven distinctive values where it increases. So, we should isolate these and plot a graph that shows this. This will give us the best curve possible."
   ],
   "metadata": {
    "collapsed": false
   }
  },
  {
   "cell_type": "code",
   "execution_count": 13,
   "outputs": [
    {
     "data": {
      "text/plain": "[<matplotlib.lines.Line2D at 0x7fe7891b3760>]"
     },
     "execution_count": 13,
     "metadata": {},
     "output_type": "execute_result"
    },
    {
     "data": {
      "text/plain": "<Figure size 432x288 with 1 Axes>",
      "image/png": "[encoded data removed]"
     },
     "metadata": {
      "needs_background": "light"
     },
     "output_type": "display_data"
    }
   ],
   "source": [
    "matplotlib.pyplot.plot(new_points[0:increasing_points - 1], unique[0:increasing_points - 1], marker=\"o\")"
   ],
   "metadata": {
    "collapsed": false
   }
  },
  {
   "cell_type": "markdown",
   "source": [
    "Split the dataset again but in the specified way for the calibration set."
   ],
   "metadata": {
    "collapsed": false
   }
  },
  {
   "cell_type": "code",
   "execution_count": 14,
   "outputs": [],
   "source": [
    "proper_training_x, calibration_x, proper_training_y, calibration_y = train_test_split(new_diabetes_training_x,\n",
    "                                                                                      new_diabetes_training_y,\n",
    "                                                                                      random_state=3001, test_size=99)"
   ],
   "metadata": {
    "collapsed": false
   }
  },
  {
   "cell_type": "markdown",
   "source": [
    "Run the standard scaler to normalise the data from the newly split calibration and testing set."
   ],
   "metadata": {
    "collapsed": false
   }
  },
  {
   "cell_type": "code",
   "execution_count": 15,
   "outputs": [],
   "source": [
    "scale = StandardScaler()\n",
    "scale.fit(proper_training_x)\n",
    "norm_x = scale.transform(proper_training_x)\n",
    "calibrated_x = scale.transform(calibration_x)\n",
    "testing_x = scale.transform(new_diabetes_testing_x)"
   ],
   "metadata": {
    "collapsed": false
   }
  },
  {
   "cell_type": "markdown",
   "source": [
    "Compute and output the non-conformity scores."
   ],
   "metadata": {
    "collapsed": false
   }
  },
  {
   "cell_type": "code",
   "execution_count": 16,
   "outputs": [
    {
     "name": "stdout",
     "output_type": "stream",
     "text": [
      "[  0.20574376   0.81448209   1.11265962   1.37076657   2.63572638\n",
      "   2.7583597    3.69333904   4.82084263   5.58952029   7.08692956\n",
      "   7.48521118   9.26595815   9.93327029  10.07031841  10.20990403\n",
      "  13.28994026  13.52374718  14.80203832  15.45284982  16.33196162\n",
      "  16.54610721  16.90835514  17.05279841  17.87257688  19.44145401\n",
      "  19.66101259  20.08555074  21.5863411   23.94493448  23.94737749\n",
      "  24.2257222   24.48055092  25.38628155  26.00503312  26.18579373\n",
      "  28.86666613  31.07655584  31.8590903   32.39755315  32.93236613\n",
      "  32.96933788  34.72538808  34.74803692  35.07927207  38.52215602\n",
      "  39.40434315  39.44823907  40.60709078  41.69578027  41.73017458\n",
      "  42.36386215  42.68546726  44.44337919  46.05901831  46.48474391\n",
      "  46.73957059  48.52570571  48.54097266  49.06426162  51.32523518\n",
      "  53.01816324  55.46340404  56.29374648  56.352054    56.66846264\n",
      "  58.23870544  60.40411272  63.74164804  64.5299164   65.31299746\n",
      "  67.95027261  68.38725449  69.46999242  71.75828268  73.612727\n",
      "  73.73779937  75.300253    76.05699284  77.72496469  79.00018019\n",
      "  81.64760188  83.14829073  87.84462329  90.99267481  91.50946094\n",
      "  91.84189041  91.93177012  97.3440205   99.87102849 103.3371036\n",
      " 106.58779092 115.76142447 116.14401568 117.01591056 118.23137397\n",
      " 128.56683718 129.26609903 131.04214339 152.0625019 ]\n"
     ]
    }
   ],
   "source": [
    "lasso_proper = Lasso().fit(norm_x, proper_training_y)\n",
    "testing_y_hat = grid_search.predict(new_norm_diabetes_testing_x)\n",
    "y_hat = lasso_proper.predict(calibrated_x)\n",
    "not_conform = abs(calibration_y - y_hat)\n",
    "not_conform = np.sort(not_conform)\n",
    "print(not_conform)"
   ],
   "metadata": {
    "collapsed": false
   }
  },
  {
   "cell_type": "markdown",
   "source": [
    "Compute the interval for a given percentage by defining an interval function that takes a percentage and returns the interval."
   ],
   "metadata": {
    "collapsed": false
   }
  },
  {
   "cell_type": "code",
   "execution_count": 17,
   "outputs": [
    {
     "name": "stdout",
     "output_type": "stream",
     "text": [
      "Length of prediction interval at 5%:\n",
      "118.23137397423886\n",
      "Length of prediction interval at 20%:\n",
      "79.00018018564666\n"
     ]
    }
   ],
   "source": [
    "def interval(percentage):\n",
    "    return not_conform[len(not_conform) - int(math.floor(percentage / 100 * (len(not_conform) + 1)))]\n",
    "print(\"Length of prediction interval at 5%:\")\n",
    "print(interval(5))\n",
    "print(\"Length of prediction interval at 20%:\")\n",
    "print(interval(20))"
   ],
   "metadata": {
    "collapsed": false
   }
  },
  {
   "cell_type": "markdown",
   "source": [
    "Calculate the error rate by counting the number of items which are over the interval value."
   ],
   "metadata": {
    "collapsed": false
   }
  },
  {
   "cell_type": "code",
   "execution_count": 18,
   "outputs": [
    {
     "name": "stdout",
     "output_type": "stream",
     "text": [
      "Error rate at 5%:\n",
      "0.018018018018018018\n",
      "Error rate at 20%:\n",
      "0.18018018018018017\n"
     ]
    }
   ],
   "source": [
    "def error_calc(val):\n",
    "    counter = 1\n",
    "    for i in range(0, diabetes_testing_y.size):\n",
    "        if abs(diabetes_testing_y[i] - testing_y_hat[i]) > interval(val):\n",
    "            counter = counter + 1\n",
    "    return counter / int(new_diabetes_testing_y.size)\n",
    "print(\"Error rate at 5%:\")\n",
    "print(error_calc(5))\n",
    "print(\"Error rate at 20%:\")\n",
    "print(error_calc(20))"
   ],
   "metadata": {
    "collapsed": false
   }
  }
 ],
 "metadata": {
  "kernelspec": {
   "display_name": "Python 3 (ipykernel)",
   "language": "python",
   "name": "python3"
  },
  "language_info": {
   "codemirror_mode": {
    "name": "ipython",
    "version": 3
   },
   "file_extension": ".py",
   "mimetype": "text/x-python",
   "name": "python",
   "nbconvert_exporter": "python",
   "pygments_lexer": "ipython3",
   "version": "3.9.12"
  }
 },
 "nbformat": 4,
 "nbformat_minor": 5
}
