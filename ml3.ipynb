{
 "cells": [
  {
   "cell_type": "code",
   "execution_count": 1,
   "outputs": [],
   "source": [
    "import matplotlib.pyplot as plt\n",
    "import numpy as np\n",
    "from sklearn.datasets import load_wine\n",
    "from sklearn.model_selection import GridSearchCV\n",
    "from sklearn.model_selection import KFold\n",
    "from sklearn.model_selection import cross_val_score\n",
    "from sklearn.model_selection import train_test_split\n",
    "from sklearn.pipeline import make_pipeline\n",
    "from sklearn.preprocessing import MinMaxScaler\n",
    "from sklearn.preprocessing import Normalizer\n",
    "from sklearn.preprocessing import RobustScaler\n",
    "from sklearn.preprocessing import StandardScaler\n",
    "from sklearn.svm import SVC"
   ],
   "metadata": {
    "collapsed": false
   }
  },
  {
   "cell_type": "markdown",
   "source": [
    "Load the built in wine dataset"
   ],
   "metadata": {
    "collapsed": false
   }
  },
  {
   "cell_type": "code",
   "execution_count": 2,
   "outputs": [],
   "source": [
    "wine_train_x, wine_test_x, wine_train_y, wine_test_y = train_test_split(load_wine().data, load_wine().target,\n",
    "                                                                        random_state=3001)"
   ],
   "metadata": {
    "collapsed": false
   }
  },
  {
   "cell_type": "markdown",
   "source": [
    "Load the USPS dataset from the file"
   ],
   "metadata": {
    "collapsed": false
   }
  },
  {
   "cell_type": "code",
   "execution_count": 3,
   "outputs": [],
   "source": [
    "USPS_training_x = np.genfromtxt(\"zip.train\", dtype=\"float\", usecols=np.arange(1, 257))\n",
    "USPS_testing_x = np.genfromtxt(\"zip.test\", dtype=\"float\", usecols=np.arange(1, 257))\n",
    "USPS_data = np.row_stack((USPS_training_x, USPS_testing_x))  # Concatenate the data into one dataset\n",
    "USPS_training_y = np.genfromtxt(\"zip.train\", usecols=0, dtype=\"int\")\n",
    "USPS_testing_y = np.genfromtxt(\"zip.test\", usecols=0, dtype=\"int\")\n",
    "USPS_labels = np.append(USPS_training_y,\n",
    "                        USPS_testing_y)  # Put the labels together as it is a list it can be appended together"
   ],
   "metadata": {
    "collapsed": false
   }
  },
  {
   "cell_type": "code",
   "execution_count": 4,
   "outputs": [],
   "source": [
    "USPS_train_x, USPS_test_x, USPS_train_y, USPS_test_y = train_test_split(USPS_data, USPS_labels, random_state=3001)"
   ],
   "metadata": {
    "collapsed": false
   }
  },
  {
   "cell_type": "code",
   "execution_count": 5,
   "outputs": [
    {
     "name": "stdout",
     "output_type": "stream",
     "text": [
      "Run cross validation score and take the average for wine:\n",
      "0.7225071225071225\n"
     ]
    }
   ],
   "source": [
    "svm = SVC()\n",
    "scores = cross_val_score(svm, wine_train_x, wine_train_y)\n",
    "sum = 0\n",
    "for i in range(0, len(scores)):\n",
    "    sum = sum + scores[i]\n",
    "average = sum / len(scores)\n",
    "print(\"Run cross validation score and take the average for wine:\")\n",
    "print(sum / len(scores))"
   ],
   "metadata": {
    "collapsed": false
   }
  },
  {
   "cell_type": "code",
   "execution_count": 6,
   "outputs": [
    {
     "name": "stdout",
     "output_type": "stream",
     "text": [
      "Output accuracy of SVM for the test data on wine:\n",
      "0.6888888888888889\n"
     ]
    }
   ],
   "source": [
    "svm.fit(wine_train_x, wine_train_y)\n",
    "print(\"Output accuracy of SVM for the test data on wine:\")  # Fit the data to the support vector machine regression\n",
    "print(svm.score(wine_test_x, wine_test_y))"
   ],
   "metadata": {
    "collapsed": false
   }
  },
  {
   "cell_type": "markdown",
   "source": [],
   "metadata": {
    "collapsed": false
   }
  },
  {
   "cell_type": "markdown",
   "source": [
    "Run the classifier on the USPS dataset."
   ],
   "metadata": {
    "collapsed": false
   }
  },
  {
   "cell_type": "code",
   "execution_count": 7,
   "outputs": [
    {
     "name": "stdout",
     "output_type": "stream",
     "text": [
      "Run cross validation score and take the average for USPS:\n",
      "0.7830203174897024\n"
     ]
    }
   ],
   "source": [
    "svm = SVC()\n",
    "scores = cross_val_score(svm, USPS_train_x, USPS_train_y)\n",
    "sum = 0\n",
    "for i in range(0, len(scores)):\n",
    "    sum = sum + scores[i]\n",
    "average = sum / len(scores)\n",
    "print(\"Run cross validation score and take the average for USPS:\")\n",
    "print(sum / len(scores))"
   ],
   "metadata": {
    "collapsed": false
   }
  },
  {
   "cell_type": "code",
   "execution_count": 8,
   "outputs": [
    {
     "name": "stdout",
     "output_type": "stream",
     "text": [
      "Output accuracy of SVM for the test data on USPS:\n",
      "0.7875268817204301\n"
     ]
    }
   ],
   "source": [
    "svm.fit(USPS_train_x, USPS_train_y)\n",
    "print(\"Output accuracy of SVM for the test data on USPS:\")\n",
    "print(svm.score(USPS_test_x, USPS_test_y))"
   ],
   "metadata": {
    "collapsed": false
   }
  },
  {
   "cell_type": "code",
   "execution_count": 9,
   "outputs": [],
   "source": [
    "wineGrid = []  #Generate a search grid this can be large for wine\n",
    "num = 0.001\n",
    "while num < 100:\n",
    "    wineGrid.append(float(num * 10))\n",
    "    num = num * 10"
   ],
   "metadata": {
    "collapsed": false
   }
  },
  {
   "cell_type": "markdown",
   "source": [
    "Write a function that returns the average false P value."
   ],
   "metadata": {
    "collapsed": false
   }
  },
  {
   "cell_type": "code",
   "execution_count": 10,
   "outputs": [],
   "source": [
    "def averageFalse(testingSet, p_val):\n",
    "    correctList = []\n",
    "    for i in range(0, len(testingSet)):\n",
    "        for j in np.unique(testingSet):\n",
    "            if testingSet[i] != j:\n",
    "                correctList.append(p_val[i][j])\n",
    "    sum = 0\n",
    "    count = 0\n",
    "    for i in correctList:\n",
    "        sum = sum + i\n",
    "        count = count + 1\n",
    "    return sum / count"
   ],
   "metadata": {
    "collapsed": false
   }
  },
  {
   "cell_type": "markdown",
   "source": [
    "Write a function that normalises the data. This increases the accuracy."
   ],
   "metadata": {
    "collapsed": false
   }
  },
  {
   "cell_type": "code",
   "execution_count": 11,
   "outputs": [],
   "source": [
    "lst = [Normalizer(), RobustScaler(), StandardScaler(), MinMaxScaler()]\n",
    "\n",
    "\n",
    "def normalise(norm, grid, test_x, test_y, train_x, train_y):\n",
    "    print(\"Normalising: for \", norm)\n",
    "    parameters = {'svc__C': grid, 'svc__gamma': grid}\n",
    "    pipe_short = make_pipeline(norm, SVC())\n",
    "    grid_search = GridSearchCV(pipe_short, param_grid=parameters, cv=len(grid), n_jobs=-1)\n",
    "    grid_search.fit(train_x, train_y)\n",
    "    print(\"Accuracy:\")\n",
    "    print(grid_search.best_score_)\n",
    "    print(\"Correct rate:\")\n",
    "    print(grid_search.score(test_x, test_y))\n",
    "    print(\"Best parameters:\")\n",
    "    print(grid_search.best_params_)\n",
    "    return grid_search"
   ],
   "metadata": {
    "collapsed": false
   }
  },
  {
   "cell_type": "markdown",
   "source": [
    "Try all the normalisers to see which one is the best fit."
   ],
   "metadata": {
    "collapsed": false
   }
  },
  {
   "cell_type": "code",
   "execution_count": 12,
   "outputs": [
    {
     "name": "stdout",
     "output_type": "stream",
     "text": [
      "Normalising: for  Normalizer()\n",
      "Accuracy:\n",
      "0.9250712250712251\n",
      "Correct rate:\n",
      "0.9111111111111111\n",
      "Best parameters:\n",
      "{'svc__C': 100.0, 'svc__gamma': 100.0}\n",
      "Normalising: for  RobustScaler()\n",
      "Accuracy:\n",
      "0.9846153846153847\n",
      "Correct rate:\n",
      "0.9555555555555556\n",
      "Best parameters:\n",
      "{'svc__C': 1.0, 'svc__gamma': 0.1}\n",
      "Normalising: for  StandardScaler()\n",
      "Accuracy:\n",
      "0.9774928774928775\n",
      "Correct rate:\n",
      "0.9555555555555556\n",
      "Best parameters:\n",
      "{'svc__C': 1.0, 'svc__gamma': 0.01}\n",
      "Normalising: for  MinMaxScaler()\n",
      "Accuracy:\n",
      "0.9849002849002849\n",
      "Correct rate:\n",
      "0.9333333333333333\n",
      "Best parameters:\n",
      "{'svc__C': 0.1, 'svc__gamma': 1.0}\n"
     ]
    }
   ],
   "source": [
    "wine_grids = []\n",
    "for i in range(0, len(lst)):\n",
    "    wine_grids.append(normalise(lst[i], wineGrid, wine_test_x, wine_test_y, wine_train_x, wine_train_y))"
   ],
   "metadata": {
    "collapsed": false
   }
  },
  {
   "cell_type": "markdown",
   "source": [
    "Standard scalar seems to be the best fit for the wine database."
   ],
   "metadata": {
    "collapsed": false
   }
  },
  {
   "cell_type": "code",
   "execution_count": 13,
   "outputs": [],
   "source": [
    "USPS_grid = []\n",
    "num = 0.1\n",
    "while num < 10:\n",
    "    USPS_grid.append(float(num * 10))\n",
    "    num = num * 10"
   ],
   "metadata": {
    "collapsed": false
   }
  },
  {
   "cell_type": "code",
   "execution_count": 14,
   "outputs": [
    {
     "name": "stdout",
     "output_type": "stream",
     "text": [
      "Normalising: for  Normalizer()\n",
      "Accuracy:\n",
      "0.7830202369558532\n",
      "Correct rate:\n",
      "0.7875268817204301\n",
      "Best parameters:\n",
      "{'svc__C': 1.0, 'svc__gamma': 1.0}\n",
      "Normalising: for  RobustScaler()\n",
      "Accuracy:\n",
      "0.7830202369558532\n",
      "Correct rate:\n",
      "0.7875268817204301\n",
      "Best parameters:\n",
      "{'svc__C': 1.0, 'svc__gamma': 1.0}\n",
      "Normalising: for  StandardScaler()\n",
      "Accuracy:\n",
      "0.7830202369558532\n",
      "Correct rate:\n",
      "0.7875268817204301\n",
      "Best parameters:\n",
      "{'svc__C': 1.0, 'svc__gamma': 1.0}\n",
      "Normalising: for  MinMaxScaler()\n",
      "Accuracy:\n",
      "0.7830202369558532\n",
      "Correct rate:\n",
      "0.7875268817204301\n",
      "Best parameters:\n",
      "{'svc__C': 1.0, 'svc__gamma': 1.0}\n"
     ]
    }
   ],
   "source": [
    "USPS_grids = []\n",
    "for i in range(0, len(lst)):\n",
    "    USPS_grids.append(normalise(lst[i], USPS_grid, USPS_test_x, USPS_test_y, USPS_train_x, USPS_train_y))"
   ],
   "metadata": {
    "collapsed": false
   }
  },
  {
   "cell_type": "markdown",
   "source": [
    "Normaliser will work for USPS dataset."
   ],
   "metadata": {
    "collapsed": false
   }
  },
  {
   "cell_type": "markdown",
   "source": [
    "Now compute the P-Values for each of the normalisers."
   ],
   "metadata": {
    "collapsed": false
   }
  },
  {
   "cell_type": "code",
   "execution_count": 15,
   "outputs": [],
   "source": [
    "def norm_to_p(grids, test_x, test_y, train_x, train_y, folds):\n",
    "    norms = []\n",
    "    for norm_grid in grids:\n",
    "        print(\"Finding average false P value for:\", lst[grids.index(norm_grid)])\n",
    "        ranks = np.zeros((test_x.shape[0], folds))\n",
    "        p_vals = np.zeros_like(ranks)\n",
    "        for i, j in KFold(shuffle=True, random_state=0, n_splits=folds).split(train_x):\n",
    "            other_x = train_x[i]\n",
    "            fold_x = train_x[j]\n",
    "            fold_y = train_y[j]\n",
    "            other_y = train_y[i]\n",
    "            norm_grid.fit(other_x, other_y)\n",
    "            fold = norm_grid.decision_function(fold_x)\n",
    "            test = norm_grid.decision_function(test_x)\n",
    "            alpha = np.zeros(fold_x.shape[0])\n",
    "            for k in range(0, fold_x.shape[0], 1):\n",
    "                alpha[k] = fold[k, fold_y[k]]\n",
    "            for k in range(0, test_x.shape[0], 1):\n",
    "                for l in range(0, folds, 1):\n",
    "                    ranks[k, l] = ranks[k, l] + np.sum(alpha <= test[k, l])\n",
    "        p_vals = (ranks + 1) / (train_x.shape[0] + 1)\n",
    "        norms.append(p_vals)\n",
    "        print(\"Average false P value:\",\n",
    "              averageFalse(test_y, p_vals))  #Call the function defined earlier to work out average false p value\n",
    "    return norms"
   ],
   "metadata": {
    "collapsed": false
   }
  },
  {
   "cell_type": "markdown",
   "source": [
    "Noe compute the average false p value for the wine dataset"
   ],
   "metadata": {
    "collapsed": false
   }
  },
  {
   "cell_type": "code",
   "execution_count": 16,
   "outputs": [
    {
     "name": "stdout",
     "output_type": "stream",
     "text": [
      "Finding average false P value for: Normalizer()\n",
      "Average false P value: 0.027777777777777762\n",
      "Finding average false P value for: RobustScaler()\n",
      "Average false P value: 0.009784411276948604\n",
      "Finding average false P value for: StandardScaler()\n",
      "Average false P value: 0.00953565505804313\n",
      "Finding average false P value for: MinMaxScaler()\n",
      "Average false P value: 0.014676616915422892\n"
     ]
    }
   ],
   "source": [
    "wine_p_val = norm_to_p(wine_grids, wine_test_x, wine_test_y, wine_train_x, wine_train_y,\n",
    "                       3)  #Output the average false p value"
   ],
   "metadata": {
    "collapsed": false
   }
  },
  {
   "cell_type": "markdown",
   "source": [
    "Noe compute the average false p value for the USPS dataset"
   ],
   "metadata": {
    "collapsed": false
   }
  },
  {
   "cell_type": "code",
   "execution_count": 17,
   "outputs": [
    {
     "name": "stdout",
     "output_type": "stream",
     "text": [
      "Finding average false P value for: Normalizer()\n",
      "Average false P value: 0.5536965194840439\n",
      "Finding average false P value for: RobustScaler()\n",
      "Average false P value: 0.41710585862697047\n",
      "Finding average false P value for: StandardScaler()\n",
      "Average false P value: 0.48109097076398744\n",
      "Finding average false P value for: MinMaxScaler()\n",
      "Average false P value: 0.41611068453950545\n"
     ]
    }
   ],
   "source": [
    "USPS_p_val = norm_to_p(USPS_grids, USPS_test_x, USPS_test_y, USPS_train_x, USPS_train_y, 10)"
   ],
   "metadata": {
    "collapsed": false
   }
  },
  {
   "cell_type": "markdown",
   "source": [
    "Write a function that plots the graph"
   ],
   "metadata": {
    "collapsed": false
   }
  },
  {
   "cell_type": "code",
   "execution_count": 18,
   "outputs": [],
   "source": [
    "def grapher(num, p_vals, test_x, test_y):\n",
    "    for item in p_vals:\n",
    "        error_values = np.zeros(num)\n",
    "        error_counter = np.zeros(num)\n",
    "        for k in range(num):\n",
    "            error_values[k] = k / num\n",
    "            for j in range(test_x.shape[0]):\n",
    "                if (item[j, test_y[j]] <= error_values[k]):\n",
    "                    error_counter[k] += 1\n",
    "            error_counter[k] = error_counter[k] / test_x.shape[0]\n",
    "        plt.plot(error_values, error_counter)"
   ],
   "metadata": {
    "collapsed": false
   }
  },
  {
   "cell_type": "markdown",
   "source": [
    "Call the graph function for all the wine normaliser values to compare"
   ],
   "metadata": {
    "collapsed": false
   }
  },
  {
   "cell_type": "code",
   "execution_count": 19,
   "outputs": [
    {
     "data": {
      "text/plain": "<Figure size 640x480 with 1 Axes>",
      "image/png": "[encoded data removed]"
     },
     "metadata": {},
     "output_type": "display_data"
    }
   ],
   "source": [
    "grapher(100, wine_p_val, wine_test_x, wine_test_y)"
   ],
   "metadata": {
    "collapsed": false
   }
  },
  {
   "cell_type": "markdown",
   "source": [
    "Call the grapher for all the USPS normalised values"
   ],
   "metadata": {
    "collapsed": false
   }
  },
  {
   "cell_type": "code",
   "execution_count": 20,
   "outputs": [
    {
     "data": {
      "text/plain": "<Figure size 640x480 with 1 Axes>",
      "image/png": "[encoded data removed]"
     },
     "metadata": {},
     "output_type": "display_data"
    }
   ],
   "source": [
    "grapher(100, USPS_p_val, USPS_test_x, USPS_test_y)"
   ],
   "metadata": {
    "collapsed": false
   }
  },
  {
   "cell_type": "code",
   "execution_count": 21,
   "outputs": [],
   "source": [
    "def bestGraph(num, p_val, test_x, test_y):\n",
    "    error_values = np.zeros(num)\n",
    "    error_counter = np.zeros(num)\n",
    "    for k in range(num):\n",
    "        error_values[k] = k / num\n",
    "        for j in range(test_x.shape[0]):\n",
    "            if (p_val[j, test_y[j]] <= error_values[k]):\n",
    "                error_counter[k] += 1\n",
    "        error_counter[k] = error_counter[k] / test_x.shape[0]\n",
    "    plt.plot(error_values, error_counter)"
   ],
   "metadata": {
    "collapsed": false
   }
  },
  {
   "cell_type": "markdown",
   "source": [
    "Now select the best normaliser for each and plot only one"
   ],
   "metadata": {
    "collapsed": false
   }
  },
  {
   "cell_type": "code",
   "execution_count": 22,
   "outputs": [
    {
     "data": {
      "text/plain": "<Figure size 640x480 with 1 Axes>",
      "image/png": "[encoded data removed]"
     },
     "metadata": {},
     "output_type": "display_data"
    }
   ],
   "source": [
    "bestGraph(100, wine_p_val[1], wine_test_x, wine_test_y)"
   ],
   "metadata": {
    "collapsed": false
   }
  },
  {
   "cell_type": "code",
   "execution_count": 23,
   "outputs": [
    {
     "data": {
      "text/plain": "<Figure size 640x480 with 1 Axes>",
      "image/png": "[encoded data removed]"
     },
     "metadata": {},
     "output_type": "display_data"
    }
   ],
   "source": [
    "bestGraph(100, USPS_p_val[0], USPS_test_x, USPS_test_y)  #Normaliser"
   ],
   "metadata": {
    "collapsed": false
   }
  }
 ],
 "metadata": {
  "kernelspec": {
   "display_name": "Python 3 (ipykernel)",
   "language": "python",
   "name": "python3"
  },
  "language_info": {
   "codemirror_mode": {
    "name": "ipython",
    "version": 3
   },
   "file_extension": ".py",
   "mimetype": "text/x-python",
   "name": "python",
   "nbconvert_exporter": "python",
   "pygments_lexer": "ipython3",
   "version": "3.9.12"
  }
 },
 "nbformat": 4,
 "nbformat_minor": 5
}
